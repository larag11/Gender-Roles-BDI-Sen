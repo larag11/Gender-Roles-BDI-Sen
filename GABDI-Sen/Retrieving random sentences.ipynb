{
 "cells": [
  {
   "cell_type": "markdown",
   "id": "4f6bf7cf",
   "metadata": {},
   "source": [
    "**Imports**"
   ]
  },
  {
   "cell_type": "code",
   "execution_count": null,
   "id": "eccdd9dd",
   "metadata": {},
   "outputs": [],
   "source": [
    "import praw\n",
    "import csv\n",
    "import pandas as pd\n",
    "import nltk\n",
    "import random"
   ]
  },
  {
   "cell_type": "markdown",
   "id": "b1dc226e",
   "metadata": {},
   "source": [
    "**Authentication**"
   ]
  },
  {
   "cell_type": "code",
   "execution_count": null,
   "id": "360206a9",
   "metadata": {},
   "outputs": [],
   "source": [
    "reddit = praw.Reddit(\n",
    "    client_id=clientid,\n",
    "    client_secret=secret,\n",
    "    password=password,\n",
    "    user_agent=script,\n",
    "    username=username,\n",
    ")"
   ]
  },
  {
   "cell_type": "code",
   "execution_count": null,
   "id": "61fe3eb4",
   "metadata": {},
   "outputs": [],
   "source": [
    "print(reddit.user.me())"
   ]
  },
  {
   "cell_type": "markdown",
   "id": "0596c8c4",
   "metadata": {},
   "source": [
    "**Preparing a list of users and their genders**"
   ]
  },
  {
   "cell_type": "code",
   "execution_count": null,
   "id": "b6545dcd",
   "metadata": {},
   "outputs": [],
   "source": [
    "#open datafiles\n",
    "\n",
    "with open('gendered_authors1.csv', newline='') as csvfile:\n",
    "    csvreader = csv.reader(csvfile)\n",
    "    genderedusers1 = list(csvreader)\n",
    "\n",
    "#print(genderedusers1)\n",
    "\n",
    "with open('gendered_authors2.csv', newline='') as csvfile:\n",
    "    csvreader = csv.reader(csvfile)\n",
    "    genderedusers2 = list(csvreader)\n",
    "\n",
    "#print(genderedusers2)\n",
    "\n",
    "with open('gendered_authors3.csv', newline='') as csvfile:\n",
    "    csvreader = csv.reader(csvfile)\n",
    "    genderedusers3 = list(csvreader)\n",
    "\n",
    "#print(genderedusers3)\n",
    "\n",
    "with open('gendered_authors4.csv', newline='') as csvfile:\n",
    "    csvreader = csv.reader(csvfile)\n",
    "    genderedusers4 = list(csvreader)\n",
    "\n",
    "#print(genderedusers4)"
   ]
  },
  {
   "cell_type": "code",
   "execution_count": null,
   "id": "480e64a7",
   "metadata": {},
   "outputs": [],
   "source": [
    "#create one list of users and genders\n",
    "for instance in genderedusers2:\n",
    "    genderedusers1.append(instance)\n",
    "for instance in genderedusers3:\n",
    "    genderedusers1.append(instance)\n",
    "for instance in genderedusers4:\n",
    "    genderedusers1.append(instance)"
   ]
  },
  {
   "cell_type": "code",
   "execution_count": null,
   "id": "3b0d0a35",
   "metadata": {},
   "outputs": [],
   "source": [
    "len(genderedusers1)"
   ]
  },
  {
   "cell_type": "code",
   "execution_count": null,
   "id": "c6e85e95",
   "metadata": {},
   "outputs": [],
   "source": [
    "#removing duplicates\n",
    "gendered_users = set(tuple(sublist) for sublist in genderedusers1)\n",
    "gendered_users = list(list(sublist) for sublist in gendered_users)"
   ]
  },
  {
   "cell_type": "code",
   "execution_count": null,
   "id": "58b60d8f",
   "metadata": {},
   "outputs": [],
   "source": [
    "#final list of gendered users, containing 22 females and 28 males\n",
    "gendered_users"
   ]
  },
  {
   "cell_type": "code",
   "execution_count": null,
   "id": "dafaf63b",
   "metadata": {},
   "outputs": [],
   "source": [
    "len(gendered_users)"
   ]
  },
  {
   "cell_type": "code",
   "execution_count": null,
   "id": "732cb706",
   "metadata": {},
   "outputs": [],
   "source": [
    "#saving the list as a csv file\n",
    "\n",
    "#gendered_userscsv = \"gendered_users.csv\"\n",
    "\n",
    "#with open(gendered_userscsv, \"w\", newline=\"\") as file:\n",
    " #   writer = csv.writer(file)\n",
    "  #  writer.writerows(gendered_users)"
   ]
  },
  {
   "cell_type": "markdown",
   "id": "475aaaaa",
   "metadata": {},
   "source": [
    "**Retrieving the random sentences**"
   ]
  },
  {
   "cell_type": "code",
   "execution_count": null,
   "id": "4c9bd004",
   "metadata": {},
   "outputs": [],
   "source": [
    "#function to retrieve the sentences\n",
    "def get_random_sentences(text_list, num_sentences):\n",
    "    random_sentences = []\n",
    "    num_sentences = min(num_sentences, len(text_list))\n",
    "    texts = [random.choice(text_list) for _ in range(num_sentences)]\n",
    "    for text in texts:\n",
    "        sentences = nltk.sent_tokenize(text)\n",
    "        num = min(1, len(sentences))\n",
    "        random_sentence = random.sample(sentences, num)\n",
    "        random_sentences.append(random_sentence)\n",
    "    \n",
    "    return random_sentences"
   ]
  },
  {
   "cell_type": "code",
   "execution_count": null,
   "id": "e338e72a",
   "metadata": {},
   "outputs": [],
   "source": [
    "#creating a list of random sentences, containing author, gender, and the sentence\n",
    "random_sen = []\n",
    "for author in gendered_users:\n",
    "    user = reddit.redditor(author[0])\n",
    "    gender = author[1]\n",
    "    submissions = user.submissions.hot(limit=None)\n",
    "    comments = user.comments.hot(limit=None)\n",
    "    self_texts = []\n",
    "    for submission in submissions:\n",
    "        self_texts.append(submission.selftext)\n",
    "    for comment in comments:\n",
    "        self_texts.append(comment.body)\n",
    "    sentences = get_random_sentences(self_texts, 45)\n",
    "    for sentence in sentences:\n",
    "        if len(sentence) > 0:\n",
    "            random_sen.append([author[0], gender, sentence[0]])"
   ]
  },
  {
   "cell_type": "code",
   "execution_count": null,
   "id": "26badfc7",
   "metadata": {},
   "outputs": [],
   "source": [
    "len(random_sen)"
   ]
  },
  {
   "cell_type": "code",
   "execution_count": null,
   "id": "04933cf2",
   "metadata": {},
   "outputs": [],
   "source": [
    "#creating a dataframe of the random sentences\n",
    "random_sen_df = pd.DataFrame(random_sen, columns=['User', 'Gender', 'Sentence'])"
   ]
  },
  {
   "cell_type": "code",
   "execution_count": null,
   "id": "29c22d22",
   "metadata": {},
   "outputs": [],
   "source": [
    "random_sen_df.head()"
   ]
  },
  {
   "cell_type": "code",
   "execution_count": null,
   "id": "ab2b5ab2",
   "metadata": {},
   "outputs": [],
   "source": [
    "#random_sen_df.to_csv('Random_Sen_2000.csv', index=False)"
   ]
  }
 ],
 "metadata": {
  "kernelspec": {
   "display_name": "Python 3 (ipykernel)",
   "language": "python",
   "name": "python3"
  },
  "language_info": {
   "codemirror_mode": {
    "name": "ipython",
    "version": 3
   },
   "file_extension": ".py",
   "mimetype": "text/x-python",
   "name": "python",
   "nbconvert_exporter": "python",
   "pygments_lexer": "ipython3",
   "version": "3.9.13"
  }
 },
 "nbformat": 4,
 "nbformat_minor": 5
}
