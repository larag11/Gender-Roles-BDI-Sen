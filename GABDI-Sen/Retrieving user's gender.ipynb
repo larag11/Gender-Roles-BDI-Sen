{
 "cells": [
  {
   "cell_type": "markdown",
   "id": "3074afa1",
   "metadata": {},
   "source": [
    "**Imports**"
   ]
  },
  {
   "cell_type": "code",
   "execution_count": null,
   "id": "22736e64",
   "metadata": {},
   "outputs": [],
   "source": [
    "import praw\n",
    "import pprint\n",
    "import re\n",
    "import csv\n",
    "import pandas as pd\n",
    "import pprint"
   ]
  },
  {
   "cell_type": "markdown",
   "id": "ccd3a7da",
   "metadata": {},
   "source": [
    "**Authentication**"
   ]
  },
  {
   "cell_type": "code",
   "execution_count": null,
   "id": "f13a0fa4",
   "metadata": {},
   "outputs": [],
   "source": [
    "reddit = praw.Reddit(\n",
    "    client_id=clientid,\n",
    "    client_secret=secret,\n",
    "    password=password,\n",
    "    user_agent=script,\n",
    "    username=username,\n",
    ")"
   ]
  },
  {
   "cell_type": "code",
   "execution_count": null,
   "id": "c758140b",
   "metadata": {},
   "outputs": [],
   "source": [
    "print(reddit.user.me())"
   ]
  },
  {
   "cell_type": "markdown",
   "id": "e14720f1",
   "metadata": {},
   "source": [
    "**Functions to retrieve users's gender (implemented from RedDust)**"
   ]
  },
  {
   "cell_type": "code",
   "execution_count": null,
   "id": "0d2e0221",
   "metadata": {},
   "outputs": [],
   "source": [
    "#natural language patterns\n",
    "fem = [\"woman\", \"female\", \"girl\", \"lady\", \"wife\", \"mother\", \"sister\"]\n",
    "male = [\"man\", \"male\", \"boy\", \"husband\", \"father\", \"brother\"]\n",
    "\n",
    "def gender_word(text, gender_list):\n",
    "    pattern = [\"I am a \", \"I'm a \", \"I am \", \"I'm \"]\n",
    "    words = re.sub(r'[^\\w\\s]', '', text)\n",
    "    words = words.split()\n",
    "    for p in pattern:\n",
    "        if p in text:\n",
    "            p = re.sub(r'[^\\w\\s]', '', p)\n",
    "            p = p.split() \n",
    "            for exp in gender_list:\n",
    "                for i in range(len(words)):\n",
    "                    if exp == words[i]:\n",
    "                        idx = words.index(exp)\n",
    "                        #print(idx)\n",
    "                        if words.index(p[0]) == idx - 1 or words.index(p[0]) == idx - 2 or words.index(p[0]) == idx -3:\n",
    "                            return True\n",
    "    return False"
   ]
  },
  {
   "cell_type": "code",
   "execution_count": null,
   "id": "3897df7b",
   "metadata": {},
   "outputs": [],
   "source": [
    "#patterns used with brackets (e.g. [45f])\n",
    "fem2 = r\"\\b\\d+f\\b\"\n",
    "male2 = r\"\\b\\d+m\\b\"\n",
    "\n",
    "def bracket_patterns(text, regex):\n",
    "    pattern = [\"I\", \"Im\", \"me\", \"Me\", \"my\", \"My\"]\n",
    "    words = re.sub(r'[^\\w\\s]', '', text)\n",
    "    words = words.split()\n",
    "    #print(words)\n",
    "    matches = []\n",
    "    for word in words:\n",
    "        matches.extend(re.findall(regex, word))\n",
    "    if matches:\n",
    "        #print(matches)\n",
    "        #print(words)\n",
    "        for p in pattern:\n",
    "            if p in words:    \n",
    "                idx = words.index(p)\n",
    "               # print(idx)\n",
    "                for match in matches:\n",
    "                    #print(words.index(match))\n",
    "                    if words.index(match) == idx+1:\n",
    "                        return True\n",
    "    return False"
   ]
  },
  {
   "cell_type": "code",
   "execution_count": null,
   "id": "10411390",
   "metadata": {},
   "outputs": [],
   "source": [
    "#test\n",
    "text = \"I am a male. This is a test. I'm a woman.\"\n",
    "\n",
    "gender_word(text, male)"
   ]
  },
  {
   "cell_type": "code",
   "execution_count": null,
   "id": "31a91548",
   "metadata": {},
   "outputs": [],
   "source": [
    "#test\n",
    "example = \"Me [30m] find something.\"\n",
    "\n",
    "bracket_patterns(example, male2)"
   ]
  },
  {
   "cell_type": "code",
   "execution_count": null,
   "id": "95bc4977",
   "metadata": {},
   "outputs": [],
   "source": [
    "#function returns whether a text indicates the writer is female (1) or male (0)\n",
    "def gender_indicator(selftexts, fem, male, fem2, male2):\n",
    "    for i in range(len(self_texts)):\n",
    "        if gender_word(self_texts[i], fem) or  bracket_patterns(self_texts[i], fem2):\n",
    "            return \"1\" #female\n",
    "        if gender_word(self_texts[i], male) or bracket_patterns(self_texts[i], male2):\n",
    "            return \"0\" #male"
   ]
  },
  {
   "cell_type": "markdown",
   "id": "f1734400",
   "metadata": {},
   "source": [
    "**Retrieving users' gender**"
   ]
  },
  {
   "cell_type": "code",
   "execution_count": null,
   "id": "c34869c3",
   "metadata": {},
   "outputs": [],
   "source": [
    "#retrieving author names from hot posts and their comments on the most popular subreddits\n",
    "\n",
    "#subreddits used: r/funny, r/AskReddit, r/gaming, r/aww (the four most popular subreddits on Reddit as of 6.3.2024)\n",
    "\n",
    "subreddit = reddit.subreddit(\"gaming\") \n",
    "#limiting it to 10 posts\n",
    "hot_posts = subreddit.hot(limit=10)\n",
    "authors = []\n",
    "for post in hot_posts:\n",
    "    if post.author.name not in authors:\n",
    "        authors.append(post.author.name)\n",
    "    comments = post.comments.list()\n",
    "    #looking for the authors of 10 comments on each of the posts\n",
    "    for comment in comments[:10]:\n",
    "        if comment.author != None:\n",
    "            if comment.author.name not in authors:\n",
    "                authors.append(comment.author.name)"
   ]
  },
  {
   "cell_type": "code",
   "execution_count": null,
   "id": "d4a5a93b",
   "metadata": {},
   "outputs": [],
   "source": [
    "len(authors)"
   ]
  },
  {
   "cell_type": "code",
   "execution_count": null,
   "id": "10067525",
   "metadata": {},
   "outputs": [],
   "source": [
    "#find out which of the authors indicate gender in their posts\n",
    "\n",
    "gendered_authors = []\n",
    "for author in authors:\n",
    "    user = reddit.redditor(author)\n",
    "    #try is used because not every author has written a post (some have only written comments)\n",
    "    try:\n",
    "        submissions = user.submissions.hot(limit=None)\n",
    "        counter = 0\n",
    "        self_texts = []\n",
    "        for submission in submissions:\n",
    "            counter += 1\n",
    "            self_texts.append(submission.selftext)\n",
    "        #only use authors with more than 2 posts\n",
    "        if counter > 2:\n",
    "            #call function to determine gender\n",
    "            gender = gender_indicator(self_texts, fem, male, fem2, male2)\n",
    "            if gender:\n",
    "                gendered_authors.append([author, gender])\n",
    "    except:\n",
    "        pass"
   ]
  },
  {
   "cell_type": "code",
   "execution_count": null,
   "id": "136dcc23",
   "metadata": {},
   "outputs": [],
   "source": [
    "#find out which of the authors indicate their gender in their comments\n",
    "\n",
    "for author in authors:\n",
    "    user = reddit.redditor(author)\n",
    "    #try is used because not every author has written a comment\n",
    "    try:\n",
    "        comments = user.comments.hot(limit=None)\n",
    "        counter = 0\n",
    "        self_texts = []\n",
    "        for comment in comments:\n",
    "            counter += 1\n",
    "            self_texts.append(comment.body)\n",
    "        #only users with more than 2 comments are considered\n",
    "        if counter > 2:\n",
    "            #calling the function to determine gender\n",
    "            gender = gender_indicator(self_texts, fem, male, fem2, male2)\n",
    "            if gender:\n",
    "                gendered_authors.append([author, gender])\n",
    "    except:\n",
    "        pass"
   ]
  },
  {
   "cell_type": "code",
   "execution_count": null,
   "id": "af2dd029",
   "metadata": {},
   "outputs": [],
   "source": [
    "len(gendered_authors)"
   ]
  },
  {
   "cell_type": "markdown",
   "id": "c2bcd929",
   "metadata": {},
   "source": [
    "**Manually checking if a user's gender has been inferred correctly**"
   ]
  },
  {
   "cell_type": "code",
   "execution_count": null,
   "id": "5f328bf3",
   "metadata": {},
   "outputs": [],
   "source": [
    "#going through every gendered author's posts and comments\n",
    "print(gendered_authors[12])\n",
    "user = reddit.redditor(gendered_authors[12][0])\n",
    "submissions = user.submissions.hot(limit=None)\n",
    "for submission in submissions:\n",
    "        print(submission.selftext)\n",
    "comments = user.comments.hot(limit=None)\n",
    "for comment in comments:\n",
    "        print(comment.body)\n",
    "print(\"\\n\")"
   ]
  },
  {
   "cell_type": "code",
   "execution_count": null,
   "id": "ddaade45",
   "metadata": {},
   "outputs": [],
   "source": [
    "#deleting authors that were wrongly inferred\n",
    "del gendered_authors[9]"
   ]
  },
  {
   "cell_type": "code",
   "execution_count": null,
   "id": "2a7aa4be",
   "metadata": {},
   "outputs": [],
   "source": [
    "gendered_authors"
   ]
  },
  {
   "cell_type": "code",
   "execution_count": null,
   "id": "628d04cc",
   "metadata": {},
   "outputs": [],
   "source": [
    "#saving the list as a csv file (4 files, one for each subreddit)\n",
    "\n",
    "gendered_authors4 = \"gendered_authors4.csv\"\n",
    "\n",
    "with open(gendered_authors4, \"w\", newline=\"\") as file:\n",
    "    writer = csv.writer(file)\n",
    "    writer.writerows(gendered_authors)"
   ]
  }
 ],
 "metadata": {
  "kernelspec": {
   "display_name": "Python 3 (ipykernel)",
   "language": "python",
   "name": "python3"
  },
  "language_info": {
   "codemirror_mode": {
    "name": "ipython",
    "version": 3
   },
   "file_extension": ".py",
   "mimetype": "text/x-python",
   "name": "python",
   "nbconvert_exporter": "python",
   "pygments_lexer": "ipython3",
   "version": "3.9.13"
  }
 },
 "nbformat": 4,
 "nbformat_minor": 5
}
