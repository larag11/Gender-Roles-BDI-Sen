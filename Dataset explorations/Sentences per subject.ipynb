{
 "cells": [
  {
   "cell_type": "code",
   "execution_count": 113,
   "id": "3c294d45",
   "metadata": {},
   "outputs": [],
   "source": [
    "import pandas as pd\n",
    "from bs4 import BeautifulSoup\n",
    "import csv"
   ]
  },
  {
   "cell_type": "code",
   "execution_count": 114,
   "id": "377a60ff",
   "metadata": {},
   "outputs": [],
   "source": [
    "all_sen = pd.read_csv(\"all_sen\")\n",
    "bdi_sen = all_sen[\"Sentence\"].tolist()"
   ]
  },
  {
   "cell_type": "code",
   "execution_count": 115,
   "id": "fcf0fda7",
   "metadata": {},
   "outputs": [],
   "source": [
    "with open('subject', 'r') as f:\n",
    "    subject = f.read()\n",
    "    \n",
    "Bs_data = BeautifulSoup(subject, \"xml\")\n",
    "\n",
    "b_text = []\n",
    "for text_tag in Bs_data.find_all('TEXT'):\n",
    "    b_text.append(text_tag.text)\n",
    "\n",
    "for text_tag in Bs_data.find_all('TITLE'):\n",
    "    b_text.append(text_tag.text)\n",
    "\n",
    "text_posts = b_text"
   ]
  },
  {
   "cell_type": "code",
   "execution_count": 116,
   "id": "1c3dba66",
   "metadata": {},
   "outputs": [
    {
     "name": "stdout",
     "output_type": "stream",
     "text": [
      "I'm frustrated by the severity.\n",
      "My body convulses so much that it looks like I'm seizing.\n",
      "L\n",
      ".\n",
      ":)\n",
      "R\n",
      "T\n",
      "done\n",
      "4.\n",
      "Thanks!\n",
      "Both\n"
     ]
    }
   ],
   "source": [
    "# A list to store the sentences found in posts\n",
    "found_sentences = []\n",
    "\n",
    "# Iterate over each sentence and check its occurrence in each post\n",
    "for sentence in bdi_sen:\n",
    "    for post in text_posts:\n",
    "        if sentence in post:\n",
    "            found_sentences.append(sentence)\n",
    "            break  # Break the inner loop once the sentence is found in a post\n",
    "\n",
    "# Print the found sentences\n",
    "for sentence in found_sentences:\n",
    "    print(sentence)"
   ]
  },
  {
   "cell_type": "code",
   "execution_count": 117,
   "id": "77da2207",
   "metadata": {},
   "outputs": [],
   "source": [
    "#with open('sentences_subject.csv', 'w', newline='') as f:\n",
    "#    writer = csv.writer(f)\n",
    "#    writer.writerow(found_sentences)"
   ]
  }
 ],
 "metadata": {
  "kernelspec": {
   "display_name": "Python 3 (ipykernel)",
   "language": "python",
   "name": "python3"
  },
  "language_info": {
   "codemirror_mode": {
    "name": "ipython",
    "version": 3
   },
   "file_extension": ".py",
   "mimetype": "text/x-python",
   "name": "python",
   "nbconvert_exporter": "python",
   "pygments_lexer": "ipython3",
   "version": "3.9.13"
  }
 },
 "nbformat": 4,
 "nbformat_minor": 5
}
