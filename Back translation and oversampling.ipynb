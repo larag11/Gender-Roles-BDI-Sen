{
 "cells": [
  {
   "cell_type": "markdown",
   "metadata": {},
   "source": [
    "**Imports**"
   ]
  },
  {
   "cell_type": "code",
   "execution_count": null,
   "metadata": {},
   "outputs": [],
   "source": [
    "import pandas as pd\n",
    "from transformers import AutoModelForSeq2SeqLM, AutoTokenizer"
   ]
  },
  {
   "cell_type": "markdown",
   "metadata": {},
   "source": [
    "**Preparation of the train set**"
   ]
  },
  {
   "cell_type": "code",
   "execution_count": null,
   "metadata": {},
   "outputs": [],
   "source": [
    "train = pd.read_csv('all-gendered.csv')"
   ]
  },
  {
   "cell_type": "code",
   "execution_count": null,
   "metadata": {},
   "outputs": [],
   "source": [
    "#the original train set has some duplicates, which should be kept in the final train set\n",
    "trans_train = train[train['Label'].notna()]\n",
    "trans_train = trans_train[trans_train['Sentence'].notna()]\n",
    "trans_train = trans_train.drop_duplicates(subset=['Sentence'])"
   ]
  },
  {
   "cell_type": "code",
   "execution_count": null,
   "metadata": {},
   "outputs": [],
   "source": [
    "control = trans_train[trans_train['Label']==0].copy()"
   ]
  },
  {
   "cell_type": "code",
   "execution_count": null,
   "metadata": {},
   "outputs": [],
   "source": [
    "len(control)"
   ]
  },
  {
   "cell_type": "code",
   "execution_count": null,
   "metadata": {},
   "outputs": [],
   "source": [
    "train[train['Label']==0]['Gender'].value_counts()"
   ]
  },
  {
   "cell_type": "code",
   "execution_count": null,
   "metadata": {},
   "outputs": [],
   "source": [
    "energyloss = trans_train[trans_train['Loss_of_energy']==1].copy()\n",
    "agitation = trans_train[trans_train['Agitation']==1].copy()\n",
    "sadness = trans_train[trans_train['Sadness']==1].copy()\n",
    "irritability = trans_train[trans_train['Irritability']==1].copy()\n",
    "socialwithdr = trans_train[trans_train['Social_withdrawal']==1].copy()\n",
    "failsense = trans_train[trans_train['Sense_of_failure']==1].copy()"
   ]
  },
  {
   "cell_type": "code",
   "execution_count": null,
   "metadata": {},
   "outputs": [],
   "source": [
    "affective = trans_train[trans_train['Affective']==1].copy()\n",
    "motivational = trans_train[trans_train['Motivational']==1].copy()\n",
    "cognitive = trans_train[trans_train['Cognitive']==1].copy()\n",
    "cog_distortions = trans_train[trans_train['Cog_distortions']==1].copy()\n",
    "behavioral = trans_train[trans_train['Behavioral']==1].copy()\n",
    "physiological = trans_train[trans_train['Physiological']==1].copy()"
   ]
  },
  {
   "cell_type": "code",
   "execution_count": null,
   "metadata": {},
   "outputs": [],
   "source": [
    "cognitive = trans_train[trans_train['Cognitive']==1]\n",
    "cog_distortions = trans_train[trans_train['Cog_distortions']==1]"
   ]
  },
  {
   "cell_type": "code",
   "execution_count": null,
   "metadata": {},
   "outputs": [],
   "source": [
    "train[train['Cog_distortions']==1]['Gender'].value_counts()"
   ]
  },
  {
   "cell_type": "code",
   "execution_count": null,
   "metadata": {},
   "outputs": [],
   "source": [
    "male_control = control[control['Gender']==0].copy()"
   ]
  },
  {
   "cell_type": "code",
   "execution_count": null,
   "metadata": {},
   "outputs": [],
   "source": [
    "male_affective = affective[affective['Gender']==0].copy()\n",
    "male_motivational = motivational[motivational['Gender']==0].copy()\n",
    "fem_cognitive = cognitive[cognitive['Gender']==1].copy()\n",
    "male_cog_distortions = cog_distortions[cog_distortions['Gender']==0].copy()\n",
    "male_behavioral = behavioral[behavioral['Gender']==0].copy()\n",
    "male_physiological = physiological[physiological['Gender']==0].copy()"
   ]
  },
  {
   "cell_type": "code",
   "execution_count": null,
   "metadata": {},
   "outputs": [],
   "source": [
    "fem_socialwithdr = socialwithdr[socialwithdr['Gender']==1].copy()\n",
    "male_failsense = failsense[failsense['Gender']==0].copy()"
   ]
  },
  {
   "cell_type": "code",
   "execution_count": null,
   "metadata": {},
   "outputs": [],
   "source": [
    "male_control = male_control.reset_index(drop=True)"
   ]
  },
  {
   "cell_type": "code",
   "execution_count": null,
   "metadata": {},
   "outputs": [],
   "source": [
    "energyloss = energyloss.reset_index(drop=True)\n",
    "agitation = agitation.reset_index(drop=True)\n",
    "sadness = sadness.reset_index(drop=True)\n",
    "irritability = irritability.reset_index(drop=True)\n",
    "socialwithdr = socialwithdr.reset_index(drop=True)\n",
    "fem_socialwithdr = fem_socialwithdr.reset_index(drop=True)\n",
    "male_failsense = male_failsense.reset_index(drop=True)"
   ]
  },
  {
   "cell_type": "code",
   "execution_count": null,
   "metadata": {},
   "outputs": [],
   "source": [
    "male_affective = male_affective.reset_index(drop=True)\n",
    "male_motivational = male_motivational.reset_index(drop=True)\n",
    "fem_cognitive = fem_cognitive.reset_index(drop=True)\n",
    "male_cog_distortions = male_cog_distortions.reset_index(drop=True)\n",
    "male_behavioral = male_behavioral.reset_index(drop=True)\n",
    "male_physiological = male_physiological.reset_index(drop=True)"
   ]
  },
  {
   "cell_type": "markdown",
   "metadata": {},
   "source": [
    "**Translation model**"
   ]
  },
  {
   "cell_type": "code",
   "execution_count": null,
   "metadata": {},
   "outputs": [],
   "source": [
    "#tokenizers for each language\n",
    "eng_tokenizer = AutoTokenizer.from_pretrained(\"facebook/nllb-200-distilled-600M\")\n",
    "ger_tokenizer = AutoTokenizer.from_pretrained(\"facebook/nllb-200-distilled-600M\", token=True, src_lang=\"deu_Latn\")\n",
    "chin_tokenizer = AutoTokenizer.from_pretrained(\"facebook/nllb-200-distilled-600M\", token=True, src_lang=\"zho_Hans\")\n",
    "arab_tokenizer = AutoTokenizer.from_pretrained(\"facebook/nllb-200-distilled-600M\", token=True, src_lang=\"arb_Arab\")\n",
    "span_tokenizer = AutoTokenizer.from_pretrained(\"facebook/nllb-200-distilled-600M\", token=True, src_lang=\"spa_Latn\")\n",
    "\n",
    "model = AutoModelForSeq2SeqLM.from_pretrained(\"facebook/nllb-200-distilled-600M\", token=True)"
   ]
  },
  {
   "cell_type": "markdown",
   "metadata": {},
   "source": [
    "**Back Translation**"
   ]
  },
  {
   "cell_type": "code",
   "execution_count": null,
   "metadata": {},
   "outputs": [],
   "source": [
    "def back_translation(sen):\n",
    "    inputs = eng_tokenizer(sen, return_tensors='pt')\n",
    "    \n",
    "    langs = [['deu_Latn', ger_tokenizer] , ['zho_Hans', chin_tokenizer], \n",
    "             ['arb_Arab', arab_tokenizer], ['spa_Latn', span_tokenizer]]\n",
    "    trans = [sen]\n",
    "    for lang in langs:\n",
    "        trans_token = model.generate(**inputs, forced_bos_token_id=eng_tokenizer.lang_code_to_id[lang[0]], max_length=50)\n",
    "        trans1 = eng_tokenizer.batch_decode(trans_token, skip_special_tokens=True)[0]\n",
    "        inputs2 = lang[1](trans1, return_tensors='pt')\n",
    "        english_token = model.generate(**inputs2, forced_bos_token_id=chin_tokenizer.lang_code_to_id[\"eng_Latn\"], max_length=50)\n",
    "        lang_trans = lang[1].batch_decode(english_token, skip_special_tokens=True)[0]\n",
    "        trans.append(lang_trans)\n",
    "    trans = list(set(trans))\n",
    "    trans.remove(sen)\n",
    "    return trans"
   ]
  },
  {
   "cell_type": "code",
   "execution_count": null,
   "metadata": {},
   "outputs": [],
   "source": [
    "def gen_back_translation(df):\n",
    "    augmented_rows = []\n",
    "    \n",
    "    for i in range(len(df)):\n",
    "        sentence = df.loc[i, 'Sentence']\n",
    "        aug_sentences = back_translation(sentence)\n",
    "        for aug_sentence in aug_sentences:\n",
    "            new_inst = df.iloc[i].copy()\n",
    "            new_inst['Sentence'] = aug_sentence\n",
    "            augmented_rows.append(new_inst)\n",
    "\n",
    "    augmented_df = pd.DataFrame(augmented_rows)\n",
    "    return augmented_df  "
   ]
  },
  {
   "cell_type": "code",
   "execution_count": null,
   "metadata": {},
   "outputs": [],
   "source": [
    "#augmentation negative sentences for the GABDI-CV model\n",
    "male_control_aug_data = gen_back_translation(male_control)"
   ]
  },
  {
   "cell_type": "code",
   "execution_count": null,
   "metadata": {},
   "outputs": [],
   "source": [
    "male_aff_aug_data = gen_back_translation(male_affective)\n",
    "male_mot_aug_data = gen_back_translation(male_motivational)\n",
    "fem_cognitive_aug_data = gen_back_translation(fem_cognitive)\n",
    "male_cog_distortions_aug_data = gen_back_translation(male_cog_distortions)\n",
    "male_beh_aug_data = gen_back_translation(male_behavioral)\n",
    "male_phys_aug_data = gen_back_translation(male_physiological)"
   ]
  },
  {
   "cell_type": "code",
   "execution_count": null,
   "metadata": {},
   "outputs": [],
   "source": [
    "fem_socialwithdr_aug_data = gen_back_translation(fem_socialwithdr)\n",
    "male_failsense_aug_data = gen_back_translation(male_failsense)"
   ]
  },
  {
   "cell_type": "code",
   "execution_count": null,
   "metadata": {},
   "outputs": [],
   "source": [
    "male_control_aug_data2 = male_control_aug_data.sample(125)"
   ]
  },
  {
   "cell_type": "code",
   "execution_count": null,
   "metadata": {},
   "outputs": [],
   "source": [
    "#for the catgory model\n",
    "male_aff_aug_data2 = male_aff_aug_data.sample(113)\n",
    "male_mot_aug_data2 = male_mot_aug_data.sample(69)\n",
    "fem_cognitive_aug_data2 = fem_cognitive_aug_data.sample(12)\n",
    "male_cog_distortions_aug_data2 = male_cog_distortions_aug_data.sample(111)\n",
    "male_beh_aug_data2 = male_beh_aug_data.sample(63)\n",
    "\n",
    "aug_data = pd.concat([male_aff_aug_data2, male_mot_aug_data2, fem_cognitive_aug_data2, \n",
    "                      male_cog_distortions_aug_data2, male_beh_aug_data2])"
   ]
  },
  {
   "cell_type": "code",
   "execution_count": null,
   "metadata": {},
   "outputs": [],
   "source": [
    "#for the GABDI-CV model\n",
    "male_aff_aug_data2 = male_aff_aug_data.sample(41)\n",
    "male_mot_aug_data2 = male_mot_aug_data.sample(54)\n",
    "fem_cognitive_aug_data2 = fem_cognitive_aug_data.sample(5)\n",
    "male_cog_distortions_aug_data2 = male_cog_distortions_aug_data.sample(48)\n",
    "male_beh_aug_data2 = male_beh_aug_data.sample(35)\n",
    "male_phys_aug_data2 = male_phys_aug_data.sample(1)\n",
    "\n",
    "aug_data = pd.concat([male_aff_aug_data2, male_mot_aug_data2, fem_cognitive_aug_data2, \n",
    "                      male_cog_distortions_aug_data2, male_beh_aug_data2, male_phys_aug_data2])"
   ]
  },
  {
   "cell_type": "code",
   "execution_count": null,
   "metadata": {},
   "outputs": [],
   "source": [
    "#aug_data = pd.concat([fem_aug_data, male_aug_data], ignore_index=True)"
   ]
  },
  {
   "cell_type": "code",
   "execution_count": null,
   "metadata": {},
   "outputs": [],
   "source": [
    "train_all = pd.concat([train, male_control_aug_data2], ignore_index=True)"
   ]
  },
  {
   "cell_type": "code",
   "execution_count": null,
   "metadata": {},
   "outputs": [],
   "source": [
    "train_all = pd.concat([train, aug_data], ignore_index=True)"
   ]
  },
  {
   "cell_type": "code",
   "execution_count": null,
   "metadata": {},
   "outputs": [],
   "source": [
    "#train_all.to_csv(\"all_CV_back_trans.csv\", index=False)\n",
    "#train_all.to_csv(\"all_back_trans_train.csv\", index=False)"
   ]
  },
  {
   "cell_type": "markdown",
   "metadata": {},
   "source": [
    "**Oversampling**"
   ]
  },
  {
   "cell_type": "code",
   "execution_count": null,
   "metadata": {},
   "outputs": [],
   "source": [
    "#augmentation negative sentences for the GABDI-CV model\n",
    "sample_male_control = male_control.sample(125, replace=False)"
   ]
  },
  {
   "cell_type": "code",
   "execution_count": null,
   "metadata": {},
   "outputs": [],
   "source": [
    "#sample_fem_socialwithdr = fem_socialwithdr.sample(9, replace=True)\n",
    "#sample_male_failsense = male_failsense.sample(30, replace=True)"
   ]
  },
  {
   "cell_type": "code",
   "execution_count": null,
   "metadata": {},
   "outputs": [],
   "source": [
    "#for the category model\n",
    "sample_male_aff = male_affective.sample(113, replace=True)\n",
    "sample_male_mot = male_motivational.sample(69, replace=True)\n",
    "sample_fem_cognitive = fem_cognitive.sample(12, replace=True)\n",
    "sample_male_cog_dist = male_cog_distortions.sample(111, replace=True)\n",
    "sample_male_beh = male_behavioral.sample(63, replace=True)"
   ]
  },
  {
   "cell_type": "code",
   "execution_count": null,
   "metadata": {},
   "outputs": [],
   "source": [
    "#for the GABDI-Sen model\n",
    "sample_male_aff = male_affective.sample(41, replace=False)\n",
    "sample_male_mot = male_motivational.sample(54, replace=True)\n",
    "sample_fem_cognitive = fem_cognitive.sample(5, replace=False)\n",
    "sample_male_cog_dist = male_cog_distortions.sample(48, replace=True)\n",
    "sample_male_beh = male_behavioral.sample(35, replace=True)\n",
    "sample_male_phy = male_physiological.sample(1, replace=False)"
   ]
  },
  {
   "cell_type": "code",
   "execution_count": null,
   "metadata": {},
   "outputs": [],
   "source": [
    "#sample_fem_cognitive = fem_cognitive.sample(12, replace=True)\n",
    "#sample_male_cog_dist = male_cog_distortions.sample(111, replace=True)"
   ]
  },
  {
   "cell_type": "code",
   "execution_count": null,
   "metadata": {},
   "outputs": [],
   "source": [
    "#category model\n",
    "sample_aug = pd.concat([sample_male_aff, sample_male_mot, sample_fem_cognitive, \n",
    "                      sample_male_cog_dist, sample_male_beh])"
   ]
  },
  {
   "cell_type": "code",
   "execution_count": null,
   "metadata": {},
   "outputs": [],
   "source": [
    "#GABDI-Sen model\n",
    "sample_aug = pd.concat([sample_male_aff, sample_male_mot, sample_fem_cognitive, \n",
    "                      sample_male_cog_dist, sample_male_beh, sample_male_phy])"
   ]
  },
  {
   "cell_type": "code",
   "execution_count": null,
   "metadata": {},
   "outputs": [],
   "source": [
    "#sample_aug = pd.concat([sample_fem_cognitive, sample_male_cog_dist], ignore_index=True)"
   ]
  },
  {
   "cell_type": "code",
   "execution_count": null,
   "metadata": {},
   "outputs": [],
   "source": [
    "sample_train_all = pd.concat([train, sample_male_control], ignore_index=True)"
   ]
  },
  {
   "cell_type": "code",
   "execution_count": null,
   "metadata": {},
   "outputs": [],
   "source": [
    "sample_train_all = pd.concat([train, sample_aug], ignore_index=True)\n",
    "#sample_train_cognitive = pd.concat([train, sample_fem_cognitive], ignore_index=True)\n",
    "#sample_train_cog_dist = pd.concat([train, sample_male_cog_dist], ignore_index=True)"
   ]
  },
  {
   "cell_type": "code",
   "execution_count": null,
   "metadata": {},
   "outputs": [],
   "source": [
    "#sample_train_all.to_csv(\"all_CV_sample.csv\", index=False)"
   ]
  },
  {
   "cell_type": "code",
   "execution_count": null,
   "metadata": {},
   "outputs": [],
   "source": [
    "#sample_train_all.to_csv(\"cog_cogdist_sample_train.csv\", index=False)\n",
    "#sample_train_cognitive.to_csv('cognitive_sample_train.csv', index=False)\n",
    "#sample_train_cog_dist.to_csv('cogdist_sample_train.csv', index=False)"
   ]
  }
 ],
 "metadata": {
  "kernelspec": {
   "display_name": "Thesis",
   "language": "python",
   "name": "python3"
  },
  "language_info": {
   "codemirror_mode": {
    "name": "ipython",
    "version": 3
   },
   "file_extension": ".py",
   "mimetype": "text/x-python",
   "name": "python",
   "nbconvert_exporter": "python",
   "pygments_lexer": "ipython3",
   "version": "3.11.8"
  }
 },
 "nbformat": 4,
 "nbformat_minor": 2
}
