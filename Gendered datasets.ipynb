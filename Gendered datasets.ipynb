{
 "cells": [
  {
   "cell_type": "code",
   "execution_count": 1,
   "id": "fe5fbb6d",
   "metadata": {},
   "outputs": [],
   "source": [
    "import pandas as pd"
   ]
  },
  {
   "cell_type": "markdown",
   "id": "ee806b49",
   "metadata": {},
   "source": [
    "**Load datasets**"
   ]
  },
  {
   "cell_type": "code",
   "execution_count": 2,
   "id": "749a384b",
   "metadata": {},
   "outputs": [],
   "source": [
    "depressed = pd.read_csv(\"datasets/Depressed-Found-BDI-Sen-Users-Genders.csv\")\n",
    "control = pd.read_csv(\"datasets/Gendered_Control_Sen.csv\")"
   ]
  },
  {
   "cell_type": "code",
   "execution_count": 3,
   "id": "46019193",
   "metadata": {},
   "outputs": [],
   "source": [
    "train = pd.read_csv(\"datasets/train-with-severities-and-multilabels.csv\")\n",
    "val = pd.read_csv(\"datasets/val-with-severities-and-multilabels.csv\")\n",
    "test = pd.read_csv(\"datasets/test-with-severities-and-multilabels.csv\")"
   ]
  },
  {
   "cell_type": "markdown",
   "id": "ba748e2b",
   "metadata": {},
   "source": [
    "**Analyze datasplits**"
   ]
  },
  {
   "cell_type": "code",
   "execution_count": 4,
   "id": "e8ce21f1",
   "metadata": {},
   "outputs": [],
   "source": [
    "#function to attach genders to the original depressed dataset\n",
    "def gender_attach(dataset):\n",
    "    for i in range(len(dataset)):\n",
    "        sentence = dataset.loc[i, \"Sentence\"]\n",
    "        for j in range(len(depressed)):\n",
    "            if sentence in depressed.loc[j, \"Sentence\"]:\n",
    "                dataset.loc[i, \"Subject\"] = depressed.loc[j, \"Subject\"]\n",
    "                dataset.loc[i, \"Gender\"] = depressed.loc[j, \"Gender\"]\n",
    "    return dataset"
   ]
  },
  {
   "cell_type": "code",
   "execution_count": 5,
   "id": "35c6a5cc",
   "metadata": {},
   "outputs": [],
   "source": [
    "train = gender_attach(train)\n",
    "val = gender_attach(val)\n",
    "test = gender_attach(test)"
   ]
  },
  {
   "cell_type": "code",
   "execution_count": 6,
   "id": "1787fb41",
   "metadata": {},
   "outputs": [],
   "source": [
    "#train.to_csv(\"gendered_og_train.csv\", index=False)\n",
    "#val.to_csv(\"gendered_og_val.csv\", index=False)\n",
    "#test.to_csv(\"gendered_og_test.csv\", index=False)"
   ]
  },
  {
   "cell_type": "code",
   "execution_count": 7,
   "id": "4c15b51a",
   "metadata": {},
   "outputs": [
    {
     "data": {
      "text/plain": [
       "array(['Subject 2341', 'Subject 7039', 'Subject 1272', 'Subject 3707',\n",
       "       'Subject 2961', 'Subject 5791', 'Subject 2903', 'Subject 9694',\n",
       "       'Subject 3993', 'Subject 2827', 'Subject 6635', 'Subject 9798',\n",
       "       'Subject 2432', 'Subject 9218', 'Subject 6619', 'Subject 6900',\n",
       "       nan, 'Subject 9454', 'Subject 436.', 'Subject 4058',\n",
       "       'Subject 5897'], dtype=object)"
      ]
     },
     "execution_count": 7,
     "metadata": {},
     "output_type": "execute_result"
    }
   ],
   "source": [
    "train[\"Subject\"].unique()"
   ]
  },
  {
   "cell_type": "code",
   "execution_count": 8,
   "id": "c3429a98",
   "metadata": {},
   "outputs": [
    {
     "data": {
      "text/plain": [
       "array(['Subject 2827', 'Subject 3707', 'Subject 2341', 'Subject 2961',\n",
       "       'Subject 9798', 'Subject 7039', 'Subject 9454', 'Subject 3993',\n",
       "       'Subject 6635', 'Subject 6619', 'Subject 6900', 'Subject 2432',\n",
       "       'Subject 4058', 'Subject 5791', nan], dtype=object)"
      ]
     },
     "execution_count": 8,
     "metadata": {},
     "output_type": "execute_result"
    }
   ],
   "source": [
    "val[\"Subject\"].unique()"
   ]
  },
  {
   "cell_type": "code",
   "execution_count": 9,
   "id": "ea34cb0f",
   "metadata": {},
   "outputs": [
    {
     "data": {
      "text/plain": [
       "array(['Subject 2432', 'Subject 2827', 'Subject 9694', 'Subject 6635',\n",
       "       'Subject 9454', 'Subject 3707', 'Subject 9798', 'Subject 5791',\n",
       "       'Subject 3993', 'Subject 2341', 'Subject 6619', 'Subject 2903',\n",
       "       'Subject 7039', 'Subject 2961', 'Subject 9218', 'Subject 4058',\n",
       "       'Subject 1272', 'Subject 6900', nan], dtype=object)"
      ]
     },
     "execution_count": 9,
     "metadata": {},
     "output_type": "execute_result"
    }
   ],
   "source": [
    "test[\"Subject\"].unique()"
   ]
  },
  {
   "cell_type": "code",
   "execution_count": 10,
   "id": "8f9a7969",
   "metadata": {},
   "outputs": [],
   "source": [
    "train = train.drop_duplicates()\n",
    "test = test.drop_duplicates()\n",
    "val = val.drop_duplicates()"
   ]
  },
  {
   "cell_type": "code",
   "execution_count": 11,
   "id": "ceb64034",
   "metadata": {},
   "outputs": [
    {
     "name": "stdout",
     "output_type": "stream",
     "text": [
      "Number of sentences in train where gender is 0.0: 156\n",
      "Number of sentences in train where gender is 1.0: 270\n",
      "Number of sentences in train where gender is nan: 0\n"
     ]
    }
   ],
   "source": [
    "#number of sentences per gender - train\n",
    "\n",
    "unique_genders = train['Gender'].unique()\n",
    "counts = {}\n",
    "\n",
    "for value in unique_genders:\n",
    "    counts[value] = len(train[train['Gender'] == value])\n",
    "\n",
    "for value, count in counts.items():\n",
    "    print(f\"Number of sentences in train where gender is {value}: {count}\")"
   ]
  },
  {
   "cell_type": "code",
   "execution_count": 12,
   "id": "9cb3b0e9",
   "metadata": {},
   "outputs": [
    {
     "name": "stdout",
     "output_type": "stream",
     "text": [
      "Number of sentences in val where gender is 1.0: 46\n",
      "Number of sentences in val where gender is 0.0: 32\n",
      "Number of sentences in val where gender is nan: 0\n"
     ]
    }
   ],
   "source": [
    "#number of sentences per gender - val\n",
    "\n",
    "unique_genders = val['Gender'].unique()\n",
    "counts = {}\n",
    "\n",
    "for value in unique_genders:\n",
    "    counts[value] = len(val[val['Gender'] == value])\n",
    "\n",
    "for value, count in counts.items():\n",
    "    print(f\"Number of sentences in val where gender is {value}: {count}\")"
   ]
  },
  {
   "cell_type": "code",
   "execution_count": 13,
   "id": "28192188",
   "metadata": {},
   "outputs": [
    {
     "name": "stdout",
     "output_type": "stream",
     "text": [
      "Number of sentences in test where gender is 0.0: 59\n",
      "Number of sentences in test where gender is 1.0: 100\n",
      "Number of sentences in test where gender is nan: 0\n"
     ]
    }
   ],
   "source": [
    "#number of sentences per gender - test\n",
    "\n",
    "unique_genders = test['Gender'].unique()\n",
    "counts = {}\n",
    "\n",
    "for value in unique_genders:\n",
    "    counts[value] = len(test[test['Gender'] == value])\n",
    "\n",
    "for value, count in counts.items():\n",
    "    print(f\"Number of sentences in test where gender is {value}: {count}\")"
   ]
  },
  {
   "cell_type": "markdown",
   "id": "83925b1b",
   "metadata": {},
   "source": [
    "**Anonymizing control set**"
   ]
  },
  {
   "cell_type": "code",
   "execution_count": 14,
   "id": "9016bf6d",
   "metadata": {},
   "outputs": [],
   "source": [
    "#anonymizing the control set\n",
    "\n",
    "unique_subjects = control[\"Subject\"].unique()\n",
    "\n",
    "anon_usernames = ['Subject ' + str(i) for i in range(100, len(unique_subjects) + 101)]\n",
    "\n",
    "user_mapping = dict(zip(unique_subjects, anon_usernames))\n",
    "\n",
    "control['Subject'] = control['Subject'].map(user_mapping)"
   ]
  },
  {
   "cell_type": "code",
   "execution_count": 15,
   "id": "ff0afc15",
   "metadata": {},
   "outputs": [],
   "source": [
    "gendered = pd.concat([depressed, control], ignore_index=True)"
   ]
  },
  {
   "cell_type": "code",
   "execution_count": 16,
   "id": "22142cc6",
   "metadata": {},
   "outputs": [],
   "source": [
    "#Beck's symptom categories\n",
    "\n",
    "affective = [3, 6, 12, 15]\n",
    "motivational = [4, 11]\n",
    "cognitive = [14, 21]\n",
    "cog_distortions = [5, 7, 8, 9, 10, 16]\n",
    "behavioral = [13, 17, 19, 22]\n",
    "physiological = [18, 20, 23]\n",
    "\n",
    "symptom_cat = [affective, motivational, cognitive, cog_distortions, behavioral, physiological]\n",
    "symptom_cat_names = ['Affective', 'Motivational', 'Cognitive', 'Cog_distortions', 'Behavioral', 'Physiological']"
   ]
  },
  {
   "cell_type": "code",
   "execution_count": 17,
   "id": "7f982153",
   "metadata": {},
   "outputs": [],
   "source": [
    "gendered['Affective'] = (gendered[gendered.columns[affective]]==1).any(axis=1).astype(int)\n",
    "gendered['Motivational'] = (gendered[gendered.columns[motivational]]==1).any(axis=1).astype(int)\n",
    "gendered['Cognitive'] = (gendered[gendered.columns[cognitive]]==1).any(axis=1).astype(int)\n",
    "gendered['Cog_distortions'] = (gendered[gendered.columns[cog_distortions]]==1).any(axis=1).astype(int)\n",
    "gendered['Behavioral'] = (gendered[gendered.columns[behavioral]]==1).any(axis=1).astype(int)\n",
    "gendered['Physiological'] = (gendered[gendered.columns[physiological]]==1).any(axis=1).astype(int)"
   ]
  },
  {
   "cell_type": "code",
   "execution_count": 18,
   "id": "2d43dc31",
   "metadata": {},
   "outputs": [],
   "source": [
    "#gendered.to_csv('all-gendered.csv', index=False)"
   ]
  },
  {
   "cell_type": "markdown",
   "id": "a9b285e1",
   "metadata": {},
   "source": [
    "**New datasplit to account for genders and users**"
   ]
  },
  {
   "cell_type": "code",
   "execution_count": 19,
   "id": "56aab1b4",
   "metadata": {},
   "outputs": [],
   "source": [
    "#go for 7:1:2 -> 385 (8m: 148 sen, 6f: 236) , 55 (1m: 21 sen, 1f: 34), 110 (2m: 42 sen, 2f: 67)\n",
    "#Number of depr sentences where gender is 0: 212\n",
    "#Number of depr sentences where gender is 1: 337\n",
    "\n",
    "#dropped aim: 354 train (7male, 6fem), 66 val (1male, 1fem), 130(3male, 2fem) test for depressed "
   ]
  },
  {
   "cell_type": "code",
   "execution_count": 20,
   "id": "ae5ee52e",
   "metadata": {},
   "outputs": [],
   "source": [
    "fem_control = control[control[\"Gender\"]==1]\n",
    "male_control = control[control[\"Gender\"]==0]\n",
    "\n",
    "fem_depressed = depressed[depressed[\"Gender\"]==1]\n",
    "male_depressed = depressed[depressed[\"Gender\"]==0]"
   ]
  },
  {
   "cell_type": "code",
   "execution_count": 21,
   "id": "1f4f9686",
   "metadata": {},
   "outputs": [
    {
     "name": "stdout",
     "output_type": "stream",
     "text": [
      "Number of sentences from Subject 2827: 133\n",
      "Number of sentences from Subject 3707: 93\n",
      "Number of sentences from Subject 2903: 10\n",
      "Number of sentences from Subject 436.: 2\n",
      "Number of sentences from Subject 5897: 2\n",
      "Number of sentences from Subject 6635: 33\n",
      "Number of sentences from Subject 6900: 24\n",
      "Number of sentences from Subject 7039: 26\n",
      "Number of sentences from Subject 9454: 14\n"
     ]
    }
   ],
   "source": [
    "unique_subjects_fem = fem_depressed['Subject'].unique()\n",
    "counts = []\n",
    "names = []\n",
    "\n",
    "for value in unique_subjects_fem:\n",
    "    names.append(value)\n",
    "    counts.append(len(depressed[depressed['Subject'] == value]))\n",
    "\n",
    "for i in range(len(counts)):\n",
    "    print(f\"Number of sentences from {names[i]}: {counts[i]}\")"
   ]
  },
  {
   "cell_type": "code",
   "execution_count": 22,
   "id": "5173d02a",
   "metadata": {},
   "outputs": [
    {
     "name": "stdout",
     "output_type": "stream",
     "text": [
      "Number of sentences from Subject 1272: 5\n",
      "Number of sentences from Subject 2341: 19\n",
      "Number of sentences from Subject 2432: 15\n",
      "Number of sentences from Subject 9218: 17\n",
      "Number of sentences from Subject 2961: 37\n",
      "Number of sentences from Subject 9798: 18\n",
      "Number of sentences from Subject 3993: 44\n",
      "Number of sentences from Subject 4058: 9\n",
      "Number of sentences from Subject 5791: 16\n",
      "Number of sentences from Subject 6619: 17\n",
      "Number of sentences from Subject 9694: 15\n"
     ]
    }
   ],
   "source": [
    "unique_subjects_male = male_depressed['Subject'].unique()\n",
    "counts = []\n",
    "names = []\n",
    "\n",
    "for value in unique_subjects_male:\n",
    "    names.append(value)\n",
    "    counts.append(len(depressed[depressed['Subject'] == value]))\n",
    "\n",
    "for i in range(len(counts)):\n",
    "    print(f\"Number of sentences from {names[i]}: {counts[i]}\")"
   ]
  },
  {
   "cell_type": "code",
   "execution_count": 23,
   "id": "caeda191",
   "metadata": {},
   "outputs": [],
   "source": [
    "#val: Subject 7039 with 26, Subject 2341 with 19\n",
    "\n",
    "#test: Subject 5535 and Subject 6900 with 57, Subject 1272 and Subject 2961 with 42\n",
    "\n",
    "#train: Subject 2827, Subject 3707, Subject 2903, Subject 436., Subject 5897, Subject 9454 with 254\n",
    "#Subject 2432, Subject 9218, Subject 9798, Subject 3993, Subject 4058, Subject 5791, Subject 6619, Subject 9694 with 151"
   ]
  },
  {
   "cell_type": "code",
   "execution_count": 24,
   "id": "d79970cf",
   "metadata": {},
   "outputs": [],
   "source": [
    "#split for depressed users\n",
    "\n",
    "depr_vals = [depressed[depressed[\"Subject\"]==\"Subject 7039\"], depressed[depressed[\"Subject\"]==\"Subject 2341\"]]\n",
    "depr_tests = [depressed[depressed[\"Subject\"]==\"Subject 5535\"], depressed[depressed[\"Subject\"]==\"Subject 6900\"],\n",
    "                 depressed[depressed[\"Subject\"]==\"Subject 1272\"], depressed[depressed[\"Subject\"]==\"Subject 2961\"]]\n",
    "depr_vals_tests = [\"Subject 7039\", \"Subject 2341\", \"Subject 5535\", \"Subject 6900\", \"Subject 1272\", \"Subject 2961\"]\n",
    "\n",
    "depr_val = pd.concat(depr_vals, ignore_index=True)\n",
    "depr_test = pd.concat(depr_tests, ignore_index=True)\n",
    "depr_train = depressed[~depressed['Subject'].isin(depr_vals_tests)]\n",
    "depr_train = depr_train.reset_index(drop=True)"
   ]
  },
  {
   "cell_type": "code",
   "execution_count": 25,
   "id": "abb983f6",
   "metadata": {},
   "outputs": [
    {
     "name": "stdout",
     "output_type": "stream",
     "text": [
      "Number of sentences from Subject 111: 44\n",
      "Number of sentences from Subject 112: 39\n",
      "Number of sentences from Subject 113: 36\n",
      "Number of sentences from Subject 114: 30\n",
      "Number of sentences from Subject 115: 35\n",
      "Number of sentences from Subject 116: 44\n",
      "Number of sentences from Subject 117: 41\n",
      "Number of sentences from Subject 118: 31\n",
      "Number of sentences from Subject 119: 37\n"
     ]
    }
   ],
   "source": [
    "unique_subjects_fem = fem_control['Subject'].unique()\n",
    "counts = []\n",
    "names = []\n",
    "\n",
    "for value in unique_subjects_fem:\n",
    "    names.append(value)\n",
    "    counts.append(len(control[control['Subject'] == value]))\n",
    "\n",
    "for i in range(len(counts)):\n",
    "    print(f\"Number of sentences from {names[i]}: {counts[i]}\")"
   ]
  },
  {
   "cell_type": "code",
   "execution_count": 26,
   "id": "7d894df9",
   "metadata": {},
   "outputs": [
    {
     "name": "stdout",
     "output_type": "stream",
     "text": [
      "Number of sentences from Subject 100: 26\n",
      "Number of sentences from Subject 101: 19\n",
      "Number of sentences from Subject 102: 18\n",
      "Number of sentences from Subject 103: 23\n",
      "Number of sentences from Subject 104: 25\n",
      "Number of sentences from Subject 105: 25\n",
      "Number of sentences from Subject 106: 19\n",
      "Number of sentences from Subject 107: 23\n",
      "Number of sentences from Subject 108: 7\n",
      "Number of sentences from Subject 109: 17\n",
      "Number of sentences from Subject 110: 10\n"
     ]
    }
   ],
   "source": [
    "unique_subjects_male = male_control['Subject'].unique()\n",
    "counts = []\n",
    "names = []\n",
    "\n",
    "for value in unique_subjects_male:\n",
    "    names.append(value)\n",
    "    counts.append(len(control[control['Subject'] == value]))\n",
    "\n",
    "for i in range(len(counts)):\n",
    "    print(f\"Number of sentences from {names[i]}: {counts[i]}\")"
   ]
  },
  {
   "cell_type": "code",
   "execution_count": 27,
   "id": "d05cc4c3",
   "metadata": {},
   "outputs": [],
   "source": [
    "#split for control users\n",
    "\n",
    "control_vals = [control[control[\"Subject\"]==\"Subject 115\"], control[control[\"Subject\"]==\"Subject 101\"]]\n",
    "control_tests = [control[control[\"Subject\"]==\"Subject 118\"], control[control[\"Subject\"]==\"Subject 113\"],\n",
    "                 control[control[\"Subject\"]==\"Subject 103\"], control[control[\"Subject\"]==\"Subject 106\"]]\n",
    "control_vals_tests = [\"Subject 115\", \"Subject 101\", \"Subject 118\", \"Subject 113\", \"Subject 103\", \"Subject 106\"]\n",
    "\n",
    "control_val = pd.concat(control_vals, ignore_index=True)\n",
    "control_test = pd.concat(control_tests, ignore_index=True)\n",
    "control_train = control[~control['Subject'].isin(control_vals_tests)]\n",
    "control_train = control_train.reset_index(drop=True)"
   ]
  },
  {
   "cell_type": "code",
   "execution_count": 28,
   "id": "75bcf631",
   "metadata": {},
   "outputs": [],
   "source": [
    "#creating the final datasplit\n",
    "\n",
    "gendered_val = pd.concat([depr_val, control_val], ignore_index=True)\n",
    "gendered_test = pd.concat([depr_test, control_test], ignore_index=True)\n",
    "gendered_train = pd.concat([depr_train, control_train], ignore_index=True)"
   ]
  },
  {
   "cell_type": "code",
   "execution_count": 29,
   "id": "39e65f5a",
   "metadata": {},
   "outputs": [
    {
     "data": {
      "text/plain": [
       "824"
      ]
     },
     "execution_count": 29,
     "metadata": {},
     "output_type": "execute_result"
    }
   ],
   "source": [
    "len(gendered_train)"
   ]
  },
  {
   "cell_type": "code",
   "execution_count": 30,
   "id": "f382dc43",
   "metadata": {},
   "outputs": [
    {
     "data": {
      "text/plain": [
       "99"
      ]
     },
     "execution_count": 30,
     "metadata": {},
     "output_type": "execute_result"
    }
   ],
   "source": [
    "len(gendered_val)"
   ]
  },
  {
   "cell_type": "code",
   "execution_count": 31,
   "id": "219355c0",
   "metadata": {},
   "outputs": [
    {
     "data": {
      "text/plain": [
       "175"
      ]
     },
     "execution_count": 31,
     "metadata": {},
     "output_type": "execute_result"
    }
   ],
   "source": [
    "len(gendered_test)"
   ]
  },
  {
   "cell_type": "code",
   "execution_count": 33,
   "id": "66092193",
   "metadata": {},
   "outputs": [
    {
     "data": {
      "text/plain": [
       "Index(['Sadness', 'Pessimism', 'Sense_of_failure', 'Loss_of_Pleasure',\n",
       "       'Guilty_feelings', 'Sense_of_punishment', 'Self-dislike',\n",
       "       'Self-incrimination', 'Suicidal_ideas', 'Crying', 'Agitation',\n",
       "       'Social_withdrawal', 'Indecision', 'Feelings_of_worthlessness',\n",
       "       'Loss_of_energy', 'Change_of_sleep', 'Irritability',\n",
       "       'Changes_in_appetite', 'Concentration_difficulty',\n",
       "       'Tiredness_or_fatigue', 'Loss_of_interest_in_sex'],\n",
       "      dtype='object')"
      ]
     },
     "execution_count": 33,
     "metadata": {},
     "output_type": "execute_result"
    }
   ],
   "source": [
    "gendered_test.columns[3:24]"
   ]
  },
  {
   "cell_type": "code",
   "execution_count": 34,
   "id": "eadc5b28",
   "metadata": {},
   "outputs": [
    {
     "name": "stdout",
     "output_type": "stream",
     "text": [
      "Number of sentences for symptom Sadness: 15\n",
      "Number of sentences for symptom Pessimism: 5\n",
      "Number of sentences for symptom Sense_of_failure: 5\n",
      "Number of sentences for symptom Loss_of_Pleasure: 17\n",
      "Number of sentences for symptom Guilty_feelings: 0\n",
      "Number of sentences for symptom Sense_of_punishment: 0\n",
      "Number of sentences for symptom Self-dislike: 7\n",
      "Number of sentences for symptom Self-incrimination: 0\n",
      "Number of sentences for symptom Suicidal_ideas: 8\n",
      "Number of sentences for symptom Crying: 6\n",
      "Number of sentences for symptom Agitation: 4\n",
      "Number of sentences for symptom Social_withdrawal: 6\n",
      "Number of sentences for symptom Indecision: 0\n",
      "Number of sentences for symptom Feelings_of_worthlessness: 4\n",
      "Number of sentences for symptom Loss_of_energy: 2\n",
      "Number of sentences for symptom Change_of_sleep: 1\n",
      "Number of sentences for symptom Irritability: 8\n",
      "Number of sentences for symptom Changes_in_appetite: 2\n",
      "Number of sentences for symptom Concentration_difficulty: 1\n",
      "Number of sentences for symptom Tiredness_or_fatigue: 6\n",
      "Number of sentences for symptom Loss_of_interest_in_sex: 0\n"
     ]
    }
   ],
   "source": [
    "counts = []\n",
    "names = []\n",
    "\n",
    "for name in gendered_test.columns[3:24]:\n",
    "    names.append(name)\n",
    "    counts.append(len(gendered_test[gendered_test[name] == 1]))\n",
    "\n",
    "for i in range(len(counts)):\n",
    "    print(f\"Number of sentences for symptom {names[i]}: {counts[i]}\")"
   ]
  },
  {
   "cell_type": "code",
   "execution_count": 156,
   "id": "9740754e",
   "metadata": {},
   "outputs": [],
   "source": [
    "#gendered_train.to_csv(\"gendered_train.csv\", index=False)"
   ]
  },
  {
   "cell_type": "code",
   "execution_count": 157,
   "id": "d62449ce",
   "metadata": {},
   "outputs": [],
   "source": [
    "#gendered_val.to_csv(\"gendered_val.csv\", index=False)"
   ]
  },
  {
   "cell_type": "code",
   "execution_count": 158,
   "id": "f342778f",
   "metadata": {},
   "outputs": [],
   "source": [
    "#gendered_test.to_csv(\"gendered_test.csv\", index=False)"
   ]
  }
 ],
 "metadata": {
  "kernelspec": {
   "display_name": "Python 3 (ipykernel)",
   "language": "python",
   "name": "python3"
  },
  "language_info": {
   "codemirror_mode": {
    "name": "ipython",
    "version": 3
   },
   "file_extension": ".py",
   "mimetype": "text/x-python",
   "name": "python",
   "nbconvert_exporter": "python",
   "pygments_lexer": "ipython3",
   "version": "3.11.8"
  }
 },
 "nbformat": 4,
 "nbformat_minor": 5
}
